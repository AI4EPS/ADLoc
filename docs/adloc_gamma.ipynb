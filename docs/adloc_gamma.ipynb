{
 "cells": [
  {
   "cell_type": "code",
   "execution_count": 1,
   "metadata": {},
   "outputs": [],
   "source": [
    "# !if [ -f demo.tar ]; then rm demo.tar; fi\n",
    "# !if [ -d test_data ]; then rm -rf test_data; fi\n",
    "# !wget -q https://github.com/AI4EPS/GaMMA/releases/download/test_data/demo.tar\n",
    "# !tar -xf demo.tar"
   ]
  },
  {
   "cell_type": "code",
   "execution_count": 2,
   "metadata": {},
   "outputs": [],
   "source": [
    "import os\n",
    "import pandas as pd\n",
    "import json\n",
    "import matplotlib.pyplot as plt\n",
    "from pyproj import Proj\n",
    "from tqdm import tqdm"
   ]
  },
  {
   "cell_type": "code",
   "execution_count": 3,
   "metadata": {},
   "outputs": [
    {
     "data": {
      "text/html": [
       "<div>\n",
       "<style scoped>\n",
       "    .dataframe tbody tr th:only-of-type {\n",
       "        vertical-align: middle;\n",
       "    }\n",
       "\n",
       "    .dataframe tbody tr th {\n",
       "        vertical-align: top;\n",
       "    }\n",
       "\n",
       "    .dataframe thead th {\n",
       "        text-align: right;\n",
       "    }\n",
       "</style>\n",
       "<table border=\"1\" class=\"dataframe\">\n",
       "  <thead>\n",
       "    <tr style=\"text-align: right;\">\n",
       "      <th></th>\n",
       "      <th>station_id</th>\n",
       "      <th>longitude</th>\n",
       "      <th>latitude</th>\n",
       "      <th>elevation_m</th>\n",
       "      <th>depth_km</th>\n",
       "    </tr>\n",
       "  </thead>\n",
       "  <tbody>\n",
       "    <tr>\n",
       "      <th>0</th>\n",
       "      <td>CI.CCC..BH</td>\n",
       "      <td>-117.365</td>\n",
       "      <td>35.525</td>\n",
       "      <td>670.0</td>\n",
       "      <td>-0.67</td>\n",
       "    </tr>\n",
       "    <tr>\n",
       "      <th>1</th>\n",
       "      <td>CI.CCC..HH</td>\n",
       "      <td>-117.365</td>\n",
       "      <td>35.525</td>\n",
       "      <td>670.0</td>\n",
       "      <td>-0.67</td>\n",
       "    </tr>\n",
       "    <tr>\n",
       "      <th>2</th>\n",
       "      <td>CI.CCC..HN</td>\n",
       "      <td>-117.365</td>\n",
       "      <td>35.525</td>\n",
       "      <td>670.0</td>\n",
       "      <td>-0.67</td>\n",
       "    </tr>\n",
       "  </tbody>\n",
       "</table>\n",
       "</div>"
      ],
      "text/plain": [
       "   station_id  longitude  latitude  elevation_m  depth_km\n",
       "0  CI.CCC..BH   -117.365    35.525        670.0     -0.67\n",
       "1  CI.CCC..HH   -117.365    35.525        670.0     -0.67\n",
       "2  CI.CCC..HN   -117.365    35.525        670.0     -0.67"
      ]
     },
     "execution_count": 3,
     "metadata": {},
     "output_type": "execute_result"
    }
   ],
   "source": [
    "data_path = \"test_data/ridgecrest/\"\n",
    "stations = pd.read_csv(os.path.join(data_path, \"stations.csv\"))\n",
    "stations[\"depth_km\"] = - stations[\"elevation_m\"] / 1000\n",
    "stations.iloc[:3]"
   ]
  },
  {
   "cell_type": "code",
   "execution_count": 4,
   "metadata": {},
   "outputs": [],
   "source": [
    "## Automatic region; you can also specify a region\n",
    "lon0 = stations[\"longitude\"].median()\n",
    "lat0 = stations[\"latitude\"].median()\n",
    "\n",
    "## projection to km\n",
    "# proj = Proj(f\"+proj=sterea +lon_0={lon0} +lat_0={lat0} +k=0.9996 +x_0=0 +y_0=0 +ellps=WGS84 +units=km +no_defs\")\n",
    "proj = Proj(f\"+proj=sterea +lon_0={lon0} +lat_0={lat0}  +units=km\")\n",
    "stations[[\"x_km\", \"y_km\"]] = stations.apply(lambda x: pd.Series(proj(longitude=x.longitude, latitude=x.latitude)), axis=1)\n",
    "stations[\"z_km\"] = stations[\"elevation_m\"].apply(lambda x: -x/1e3)\n",
    "\n",
    "xmin = stations[\"x_km\"].min()\n",
    "xmax = stations[\"x_km\"].max()\n",
    "ymin = stations[\"y_km\"].min()\n",
    "ymax = stations[\"y_km\"].max()\n",
    "x0 = (xmin + xmax) / 2\n",
    "y0 = (ymin + ymax) / 2\n",
    "\n",
    "## set up the config; you can also specify the region manually\n",
    "config = {}\n",
    "config[\"xlim_km\"] = (2 * xmin - x0, 2 * xmax - x0)\n",
    "config[\"ylim_km\"] = (2 * ymin - y0, 2 * ymax - y0)\n",
    "config[\"zlim_km\"] = (stations[\"z_km\"].min(), 30)\n",
    "\n",
    "config[\"bfgs_bounds\"] = (\n",
    "    (config[\"xlim_km\"][0] - 1, config[\"xlim_km\"][1] + 1),  # x\n",
    "    (config[\"ylim_km\"][0] - 1, config[\"ylim_km\"][1] + 1),  # y\n",
    "    (config[\"zlim_km\"][0], config[\"zlim_km\"][1] + 1),  # z\n",
    "    (None, None),  # t\n",
    ")\n"
   ]
  },
  {
   "cell_type": "code",
   "execution_count": 5,
   "metadata": {},
   "outputs": [
    {
     "data": {
      "text/plain": [
       "Text(0.5, 1.0, 'Stations')"
      ]
     },
     "execution_count": 5,
     "metadata": {},
     "output_type": "execute_result"
    },
    {
     "data": {
      "image/png": "[encoded data removed]",
      "text/plain": [
       "<Figure size 640x480 with 2 Axes>"
      ]
     },
     "metadata": {},
     "output_type": "display_data"
    }
   ],
   "source": [
    "plt.figure()\n",
    "plt.scatter(stations[\"x_km\"], stations[\"y_km\"], c=stations[\"depth_km\"], cmap=\"viridis_r\", s=100, marker=\"^\")\n",
    "plt.colorbar(label=\"Depth (km)\")\n",
    "plt.xlabel(\"X (km)\")\n",
    "plt.ylabel(\"Y (km)\")\n",
    "plt.xlim(config[\"xlim_km\"])\n",
    "plt.ylim(config[\"ylim_km\"])\n",
    "plt.title(\"Stations\")"
   ]
  },
  {
   "cell_type": "code",
   "execution_count": 6,
   "metadata": {},
   "outputs": [],
   "source": [
    "data_path = \"results/ridgecrest/\"\n",
    "picks = pd.read_csv(os.path.join(data_path, \"gamma_picks.csv\"), parse_dates=[\"phase_time\"])\n",
    "events = pd.read_csv(os.path.join(data_path, \"gamma_events.csv\"), parse_dates=[\"time\"])\n"
   ]
  },
  {
   "cell_type": "code",
   "execution_count": 7,
   "metadata": {},
   "outputs": [
    {
     "data": {
      "text/html": [
       "<div>\n",
       "<style scoped>\n",
       "    .dataframe tbody tr th:only-of-type {\n",
       "        vertical-align: middle;\n",
       "    }\n",
       "\n",
       "    .dataframe tbody tr th {\n",
       "        vertical-align: top;\n",
       "    }\n",
       "\n",
       "    .dataframe thead th {\n",
       "        text-align: right;\n",
       "    }\n",
       "</style>\n",
       "<table border=\"1\" class=\"dataframe\">\n",
       "  <thead>\n",
       "    <tr style=\"text-align: right;\">\n",
       "      <th></th>\n",
       "      <th>station_id</th>\n",
       "      <th>phase_time</th>\n",
       "      <th>phase_score</th>\n",
       "      <th>phase_amplitude</th>\n",
       "      <th>phase_type</th>\n",
       "      <th>event_index</th>\n",
       "      <th>gamma_score</th>\n",
       "    </tr>\n",
       "  </thead>\n",
       "  <tbody>\n",
       "    <tr>\n",
       "      <th>0</th>\n",
       "      <td>CI.CCC..BH</td>\n",
       "      <td>2019-07-04 22:00:06.084</td>\n",
       "      <td>0.939738</td>\n",
       "      <td>0.000017</td>\n",
       "      <td>P</td>\n",
       "      <td>261</td>\n",
       "      <td>0.249849</td>\n",
       "    </tr>\n",
       "    <tr>\n",
       "      <th>1</th>\n",
       "      <td>CI.CCC..BH</td>\n",
       "      <td>2019-07-04 22:00:31.934</td>\n",
       "      <td>0.953992</td>\n",
       "      <td>0.000006</td>\n",
       "      <td>P</td>\n",
       "      <td>263</td>\n",
       "      <td>0.249849</td>\n",
       "    </tr>\n",
       "    <tr>\n",
       "      <th>2</th>\n",
       "      <td>CI.CCC..BH</td>\n",
       "      <td>2019-07-04 22:00:38.834</td>\n",
       "      <td>0.837302</td>\n",
       "      <td>0.000006</td>\n",
       "      <td>P</td>\n",
       "      <td>264</td>\n",
       "      <td>0.249849</td>\n",
       "    </tr>\n",
       "  </tbody>\n",
       "</table>\n",
       "</div>"
      ],
      "text/plain": [
       "   station_id              phase_time  phase_score  phase_amplitude  \\\n",
       "0  CI.CCC..BH 2019-07-04 22:00:06.084     0.939738         0.000017   \n",
       "1  CI.CCC..BH 2019-07-04 22:00:31.934     0.953992         0.000006   \n",
       "2  CI.CCC..BH 2019-07-04 22:00:38.834     0.837302         0.000006   \n",
       "\n",
       "  phase_type  event_index  gamma_score  \n",
       "0          P          261     0.249849  \n",
       "1          P          263     0.249849  \n",
       "2          P          264     0.249849  "
      ]
     },
     "execution_count": 7,
     "metadata": {},
     "output_type": "execute_result"
    }
   ],
   "source": [
    "picks.iloc[:3]"
   ]
  },
  {
   "cell_type": "code",
   "execution_count": 8,
   "metadata": {},
   "outputs": [
    {
     "data": {
      "text/html": [
       "<div>\n",
       "<style scoped>\n",
       "    .dataframe tbody tr th:only-of-type {\n",
       "        vertical-align: middle;\n",
       "    }\n",
       "\n",
       "    .dataframe tbody tr th {\n",
       "        vertical-align: top;\n",
       "    }\n",
       "\n",
       "    .dataframe thead th {\n",
       "        text-align: right;\n",
       "    }\n",
       "</style>\n",
       "<table border=\"1\" class=\"dataframe\">\n",
       "  <thead>\n",
       "    <tr style=\"text-align: right;\">\n",
       "      <th></th>\n",
       "      <th>time</th>\n",
       "      <th>magnitude</th>\n",
       "      <th>sigma_time</th>\n",
       "      <th>sigma_amp</th>\n",
       "      <th>cov_time_amp</th>\n",
       "      <th>gamma_score</th>\n",
       "      <th>num_picks</th>\n",
       "      <th>num_p_picks</th>\n",
       "      <th>num_s_picks</th>\n",
       "      <th>event_index</th>\n",
       "      <th>x(km)</th>\n",
       "      <th>y(km)</th>\n",
       "      <th>z(km)</th>\n",
       "      <th>longitude</th>\n",
       "      <th>latitude</th>\n",
       "      <th>depth_km</th>\n",
       "    </tr>\n",
       "  </thead>\n",
       "  <tbody>\n",
       "    <tr>\n",
       "      <th>0</th>\n",
       "      <td>2019-07-04 19:25:32.811</td>\n",
       "      <td>1.344</td>\n",
       "      <td>0.572</td>\n",
       "      <td>0.353</td>\n",
       "      <td>0.070</td>\n",
       "      <td>26.854</td>\n",
       "      <td>25</td>\n",
       "      <td>13</td>\n",
       "      <td>12</td>\n",
       "      <td>30</td>\n",
       "      <td>25.488</td>\n",
       "      <td>-12.236</td>\n",
       "      <td>6.337</td>\n",
       "      <td>-117.483</td>\n",
       "      <td>35.731</td>\n",
       "      <td>6.337</td>\n",
       "    </tr>\n",
       "    <tr>\n",
       "      <th>1</th>\n",
       "      <td>2019-07-04 19:25:43.605</td>\n",
       "      <td>1.635</td>\n",
       "      <td>0.441</td>\n",
       "      <td>0.291</td>\n",
       "      <td>0.026</td>\n",
       "      <td>74.435</td>\n",
       "      <td>75</td>\n",
       "      <td>38</td>\n",
       "      <td>37</td>\n",
       "      <td>32</td>\n",
       "      <td>21.956</td>\n",
       "      <td>-12.790</td>\n",
       "      <td>9.472</td>\n",
       "      <td>-117.522</td>\n",
       "      <td>35.726</td>\n",
       "      <td>9.472</td>\n",
       "    </tr>\n",
       "    <tr>\n",
       "      <th>2</th>\n",
       "      <td>2019-07-04 18:32:07.863</td>\n",
       "      <td>2.012</td>\n",
       "      <td>0.831</td>\n",
       "      <td>0.305</td>\n",
       "      <td>0.055</td>\n",
       "      <td>59.810</td>\n",
       "      <td>57</td>\n",
       "      <td>30</td>\n",
       "      <td>27</td>\n",
       "      <td>76</td>\n",
       "      <td>18.159</td>\n",
       "      <td>-22.810</td>\n",
       "      <td>11.818</td>\n",
       "      <td>-117.565</td>\n",
       "      <td>35.636</td>\n",
       "      <td>11.818</td>\n",
       "    </tr>\n",
       "  </tbody>\n",
       "</table>\n",
       "</div>"
      ],
      "text/plain": [
       "                     time  magnitude  sigma_time  sigma_amp  cov_time_amp  \\\n",
       "0 2019-07-04 19:25:32.811      1.344       0.572      0.353         0.070   \n",
       "1 2019-07-04 19:25:43.605      1.635       0.441      0.291         0.026   \n",
       "2 2019-07-04 18:32:07.863      2.012       0.831      0.305         0.055   \n",
       "\n",
       "   gamma_score  num_picks  num_p_picks  num_s_picks  event_index   x(km)  \\\n",
       "0       26.854         25           13           12           30  25.488   \n",
       "1       74.435         75           38           37           32  21.956   \n",
       "2       59.810         57           30           27           76  18.159   \n",
       "\n",
       "    y(km)   z(km)  longitude  latitude  depth_km  \n",
       "0 -12.236   6.337   -117.483    35.731     6.337  \n",
       "1 -12.790   9.472   -117.522    35.726     9.472  \n",
       "2 -22.810  11.818   -117.565    35.636    11.818  "
      ]
     },
     "execution_count": 8,
     "metadata": {},
     "output_type": "execute_result"
    }
   ],
   "source": [
    "events.iloc[:3]"
   ]
  },
  {
   "cell_type": "code",
   "execution_count": 9,
   "metadata": {},
   "outputs": [],
   "source": [
    "from adloc.eikonal2d import eikonal_solve\n",
    "from adloc.sacloc2d import ADLoc\n",
    "from adloc import RANSACRegressor\n",
    "import numpy as np"
   ]
  },
  {
   "cell_type": "code",
   "execution_count": 10,
   "metadata": {},
   "outputs": [],
   "source": [
    "def init_eikonal2d(config):\n",
    "\n",
    "    rlim = [0, np.sqrt((config[\"xlim_km\"][1] - config[\"xlim_km\"][0]) ** 2 + (config[\"ylim_km\"][1] - config[\"ylim_km\"][0]) ** 2)]\n",
    "    zlim = config[\"zlim_km\"]\n",
    "    h = config[\"h\"]\n",
    "\n",
    "    rgrid = np.arange(rlim[0], rlim[1] + h, h)\n",
    "    zgrid = np.arange(zlim[0], zlim[1] + h, h)\n",
    "    nr = len(rgrid)\n",
    "    nz = len(zgrid)\n",
    "\n",
    "    vel = config[\"vel\"]\n",
    "    zz, vp, vs = vel[\"Z\"], vel[\"P\"], vel[\"S\"]\n",
    "    vp1d = np.interp(zgrid, zz, vp)\n",
    "    vs1d = np.interp(zgrid, zz, vs)\n",
    "    vp = np.tile(vp1d, (nr, 1))\n",
    "    vs = np.tile(vs1d, (nr, 1))\n",
    "\n",
    "    up = 1000 * np.ones((nr, nz))\n",
    "    up[0, 0] = 0.0\n",
    "\n",
    "    up = eikonal_solve(up, vp, h)\n",
    "    grad_up = np.gradient(up, h, edge_order=2)\n",
    "    up = up.ravel()\n",
    "    grad_up = [x.ravel() for x in grad_up]\n",
    "\n",
    "    us = 1000 * np.ones((nr, nz))\n",
    "    us[0, 0] = 0.0\n",
    "\n",
    "    us = eikonal_solve(us, vs, h)\n",
    "    grad_us = np.gradient(us, h, edge_order=2)\n",
    "    us = us.ravel()\n",
    "    grad_us = [x.ravel() for x in grad_us]\n",
    "\n",
    "    config.update(\n",
    "        {\n",
    "            \"up\": up,\n",
    "            \"us\": us,\n",
    "            \"grad_up\": grad_up,\n",
    "            \"grad_us\": grad_us,\n",
    "            \"rgrid\": rgrid,\n",
    "            \"zgrid\": zgrid,\n",
    "            \"nr\": nr,\n",
    "            \"nz\": nz,\n",
    "            \"h\": h\n",
    "        }\n",
    "    )\n",
    "\n",
    "    return config"
   ]
  },
  {
   "cell_type": "code",
   "execution_count": 11,
   "metadata": {},
   "outputs": [
    {
     "name": "stdout",
     "output_type": "stream",
     "text": [
      "Eikonal Solver: \n",
      "Iter 0, error = 999.945\n",
      "Iter 1, error = 0.000\n",
      "Time: 3.340\n",
      "Eikonal Solver: \n",
      "Iter 0, error = 999.906\n",
      "Iter 1, error = 0.000\n",
      "Time: 0.084\n"
     ]
    }
   ],
   "source": [
    "## Eikonal for 1D velocity model\n",
    "zz = [0.0, 5.5, 16.0, 32.0]\n",
    "vp = [5.5, 5.5,  6.7,  7.8]\n",
    "vp_vs_ratio = 1.73\n",
    "vs = [v / vp_vs_ratio for v in vp]\n",
    "h = 0.3\n",
    "vel = {\"Z\": zz, \"P\": vp, \"S\": vs}\n",
    "config[\"eikonal\"] = {\"vel\": vel, \"h\": h, \"xlim_km\": config[\"xlim_km\"], \"ylim_km\": config[\"ylim_km\"], \"zlim_km\": config[\"zlim_km\"]}\n",
    "config[\"eikonal\"] = init_eikonal2d(config[\"eikonal\"])\n"
   ]
  },
  {
   "cell_type": "code",
   "execution_count": 12,
   "metadata": {},
   "outputs": [],
   "source": [
    "# %%\n",
    "stations[\"idx_sta\"] = stations.index  # reindex in case the index does not start from 0 or is not continuous\n",
    "\n",
    "events[\"idx_eve\"] = events.index  # reindex in case the index does not start from 0 or is not continuous\n",
    "\n",
    "picks = picks.merge(events[[\"event_index\", \"idx_eve\"]], on=\"event_index\")\n",
    "\n",
    "picks = picks.merge(stations[[\"station_id\", \"idx_sta\"]], on=\"station_id\")"
   ]
  },
  {
   "cell_type": "code",
   "execution_count": 13,
   "metadata": {},
   "outputs": [],
   "source": [
    "# %% backup old events\n",
    "events_old = events.copy()\n",
    "events_old[[\"x_km\", \"y_km\"]] = events_old.apply(lambda x: pd.Series(proj(longitude=x.longitude, latitude=x.latitude)), axis=1)\n",
    "events_old[\"z_km\"] = events[\"depth_km\"]"
   ]
  },
  {
   "cell_type": "code",
   "execution_count": 14,
   "metadata": {},
   "outputs": [
    {
     "name": "stderr",
     "output_type": "stream",
     "text": [
      "100%|██████████| 1376/1376 [03:09<00:00,  7.28it/s]\n"
     ]
    }
   ],
   "source": [
    "## Location using ADLoc\n",
    "MIN_ADLOC_SCORE = 0.9\n",
    "estimator = ADLoc(config, stations=stations[[\"x_km\", \"y_km\", \"z_km\"]].values, eikonal=config[\"eikonal\"])\n",
    "event_init = np.array([[np.mean(config[\"xlim_km\"]), np.mean(config[\"ylim_km\"]), np.mean(config[\"zlim_km\"]), 0.0]])\n",
    "picks_mask = pd.DataFrame(index=picks.index, columns=[\"mask\"])\n",
    "picks_error = pd.DataFrame(index=picks.index, columns=[\"residual_s\"])\n",
    "for event_index, picks_by_event in tqdm(picks.groupby(\"idx_eve\")):\n",
    "\n",
    "    X = picks_by_event.merge(\n",
    "        stations[[\"x_km\", \"y_km\", \"z_km\", \"station_id\"]],\n",
    "        on=\"station_id\",\n",
    "    )\n",
    "    t0 = X[\"phase_time\"].min()\n",
    "    X.rename(columns={\"phase_type\": \"type\", \"phase_time\": \"t_s\"}, inplace=True)\n",
    "    X[\"t_s\"] = (X[\"t_s\"] - t0).dt.total_seconds()\n",
    "    X = X[[\"x_km\", \"y_km\", \"z_km\", \"t_s\", \"type\", \"idx_sta\"]]\n",
    "    mapping_int = {\"P\": 0, \"S\": 1}\n",
    "    X[\"type\"] = X[\"type\"].apply(lambda x: mapping_int[x.upper()])\n",
    "\n",
    "    estimator.set_params(**{\"events\": event_init})\n",
    "    ## Location using ADLoc\n",
    "    # estimator.fit(X[[\"idx_sta\", \"type\"]].values, y=X[\"t_s\"].values)\n",
    "\n",
    "    ## Location using RANSAC\n",
    "    reg = RANSACRegressor(\n",
    "        estimator=estimator,\n",
    "        random_state=0,\n",
    "        min_samples=4,\n",
    "        residual_threshold=1.0,\n",
    "    )\n",
    "    reg.fit(X[[\"idx_sta\", \"type\"]].values, X[\"t_s\"].values)\n",
    "    estimator = reg.estimator_\n",
    "    mask = reg.inlier_mask_\n",
    "    picks_mask.loc[picks_by_event.index, \"mask\"] = mask\n",
    "\n",
    "    ## Predict travel time\n",
    "    score = estimator.score(X[[\"idx_sta\", \"type\"]].values, y=X[\"t_s\"].values)\n",
    "    tt = estimator.predict(X[[\"idx_sta\", \"type\"]].values)\n",
    "    mean_residual_s = np.mean(np.abs(X[\"t_s\"].values - tt))\n",
    "    picks_error.loc[picks_by_event.index, \"residual_s\"] = X[\"t_s\"].values - tt\n",
    "\n",
    "    if score > MIN_ADLOC_SCORE:\n",
    "        x,y,z,t = xyz = estimator.events[0]\n",
    "        events.loc[event_index, [\"x_km\", \"y_km\", \"z_km\", \"time\"]] = x, y, z, t0 + pd.Timedelta(t, unit=\"s\")\n",
    "        events.loc[event_index, \"adloc_score\"] = score\n",
    "        events.loc[event_index, \"adloc_residual_s\"] = mean_residual_s\n",
    "    else:\n",
    "        # delete the event\n",
    "        events.loc[event_index, [\"x_km\", \"y_km\", \"z_km\", \"time\"]] = np.nan, np.nan, np.nan, np.nan\n",
    "        picks_mask.loc[picks_by_event.index, \"mask\"] = False\n",
    "\n",
    "## Filter nan events\n",
    "events = events.dropna(subset=[\"x_km\", \"y_km\", \"z_km\", \"time\"])"
   ]
  },
  {
   "cell_type": "code",
   "execution_count": 15,
   "metadata": {},
   "outputs": [
    {
     "data": {
      "image/png": "[encoded data removed]",
      "text/plain": [
       "<Figure size 640x480 with 1 Axes>"
      ]
     },
     "metadata": {},
     "output_type": "display_data"
    }
   ],
   "source": [
    "plt.figure()\n",
    "plt.hist(events[\"adloc_score\"], bins=20) \n",
    "plt.show()"
   ]
  },
  {
   "cell_type": "code",
   "execution_count": 17,
   "metadata": {},
   "outputs": [
    {
     "data": {
      "image/png": "[encoded data removed]",
      "text/plain": [
       "<Figure size 1000x500 with 2 Axes>"
      ]
     },
     "metadata": {},
     "output_type": "display_data"
    }
   ],
   "source": [
    "plt.figure(figsize=(10, 5))\n",
    "vmin = min(events[\"depth_km\"].min(), events_old[\"depth_km\"].min())\n",
    "vmax = max(events[\"depth_km\"].max(), events_old[\"depth_km\"].max())\n",
    "\n",
    "plt.subplot(121)\n",
    "plt.scatter(events_old[\"x_km\"], events_old[\"y_km\"], c=events_old[\"depth_km\"], cmap=\"viridis_r\", s=1, marker=\"o\", vmin=vmin, vmax=vmax)\n",
    "plt.xlim([xmin, xmax])\n",
    "plt.ylim([ymin, ymax])\n",
    "plt.subplot(122)\n",
    "plt.scatter(events[\"x_km\"], events[\"y_km\"], c=events[\"depth_km\"], cmap=\"viridis_r\", s=1, marker=\"o\", vmin=vmin, vmax=vmax)\n",
    "plt.xlim([xmin, xmax])\n",
    "plt.ylim([ymin, ymax])\n",
    "plt.show()"
   ]
  },
  {
   "cell_type": "code",
   "execution_count": null,
   "metadata": {},
   "outputs": [],
   "source": []
  }
 ],
 "metadata": {
  "kernelspec": {
   "display_name": "Python 3",
   "language": "python",
   "name": "python3"
  },
  "language_info": {
   "codemirror_mode": {
    "name": "ipython",
    "version": 3
   },
   "file_extension": ".py",
   "mimetype": "text/x-python",
   "name": "python",
   "nbconvert_exporter": "python",
   "pygments_lexer": "ipython3",
   "version": "3.10.13"
  }
 },
 "nbformat": 4,
 "nbformat_minor": 2
}
